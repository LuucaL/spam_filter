{
 "cells": [
  {
   "cell_type": "markdown",
   "id": "b248f565",
   "metadata": {},
   "source": [
    "# Spam Filter Assignment B\n"
   ]
  },
  {
   "cell_type": "markdown",
   "id": "a2313980",
   "metadata": {},
   "source": [
    "## Visualization of the data\n"
   ]
  },
  {
   "cell_type": "markdown",
   "id": "53bcdebd",
   "metadata": {},
   "source": [
    "#### Class distribution (Ham vs Spam)\n",
    "quickly check wether your data is balanced or not\n",
    "```{r}"
   ]
  },
  {
   "cell_type": "code",
   "execution_count": null,
   "id": "e6484e42",
   "metadata": {},
   "outputs": [],
   "source": [
    "import matplotlib.pyplot as plt\n",
    "from collections import Counter\n",
    "\n",
    "# Assume `labels` is a list or pandas Series of \"ham\"/\"spam\"\n",
    "counts = Counter(labels)\n",
    "\n",
    "plt.figure()\n",
    "plt.bar(counts.keys(), counts.values())\n",
    "plt.title(\"Class Distribution\")\n",
    "plt.ylabel(\"Number of Emails\")\n",
    "plt.xlabel(\"Label\")\n",
    "plt.show()\n"
   ]
  },
  {
   "cell_type": "markdown",
   "id": "3246544c",
   "metadata": {},
   "source": [
    "#### Top Word Frequencies\n",
    "See which words appear most often in your corpus (e.g. in spam vs. ham). Here’s a histogram of the top 20 unigrams:"
   ]
  },
  {
   "cell_type": "code",
   "execution_count": null,
   "id": "04946a65",
   "metadata": {},
   "outputs": [],
   "source": [
    "from sklearn.feature_extraction.text import CountVectorizer\n",
    "\n",
    "vectorizer = CountVectorizer(stop_words=\"english\", ngram_range=(1, 1))\n",
    "X = vectorizer.fit_transform(texts)  # `texts` is your list of email bodies\n",
    "feature_names = vectorizer.get_feature_names_out()\n",
    "counts = X.sum(axis=0).A1            # total frequency of each token\n",
    "\n",
    "# Get top 20\n",
    "top_indices = counts.argsort()[::-1][:20]\n",
    "top_words = feature_names[top_indices]\n",
    "top_counts = counts[top_indices]\n",
    "\n",
    "plt.figure()\n",
    "plt.bar(range(len(top_words)), top_counts)\n",
    "plt.xticks(range(len(top_words)), top_words, rotation=90)\n",
    "plt.title(\"Top 20 Unigram Frequencies\")\n",
    "plt.tight_layout()\n",
    "plt.show()\n"
   ]
  },
  {
   "cell_type": "markdown",
   "id": "1b53da17",
   "metadata": {},
   "source": [
    "#### Confusion Matrix as a Heatmap\n",
    "Visualize how many ham/spam emails were correctly vs. incorrectly classified:"
   ]
  },
  {
   "cell_type": "code",
   "execution_count": null,
   "id": "cab7eb3d",
   "metadata": {},
   "outputs": [],
   "source": [
    "import matplotlib.pyplot as plt\n",
    "from sklearn.metrics import confusion_matrix\n",
    "\n",
    "# y_true, y_pred from your test set\n",
    "cm = confusion_matrix(y_true, y_pred, labels=[\"ham\", \"spam\"])\n",
    "\n",
    "plt.figure()\n",
    "plt.imshow(cm, interpolation=\"nearest\")\n",
    "plt.title(\"Confusion Matrix\")\n",
    "plt.xticks([0, 1], [\"Predicted Ham\", \"Predicted Spam\"])\n",
    "plt.yticks([0, 1], [\"True Ham\", \"True Spam\"])\n",
    "for i in range(2):\n",
    "    for j in range(2):\n",
    "        plt.text(j, i, cm[i, j], ha=\"center\", va=\"center\")\n",
    "plt.colorbar()\n",
    "plt.tight_layout()\n",
    "plt.show()\n"
   ]
  },
  {
   "cell_type": "markdown",
   "id": "29973fd0",
   "metadata": {},
   "source": [
    "#### Precision–Recall Curve\n",
    "Show the trade-off between precision and recall as you vary the decision threshold:"
   ]
  },
  {
   "cell_type": "code",
   "execution_count": null,
   "id": "b4aa9f16",
   "metadata": {},
   "outputs": [],
   "source": [
    "from sklearn.metrics import precision_recall_curve\n",
    "\n",
    "# Get scores from your model\n",
    "scores = best_model.decision_function(X_test)\n",
    "\n",
    "precision, recall, thresholds = precision_recall_curve(y_test == \"spam\", scores)\n",
    "\n",
    "plt.figure()\n",
    "plt.plot(recall, precision)\n",
    "plt.title(\"Precision–Recall Curve\")\n",
    "plt.xlabel(\"Recall\")\n",
    "plt.ylabel(\"Precision\")\n",
    "plt.show()\n"
   ]
  }
 ],
 "metadata": {
  "kernelspec": {
   "display_name": ".venv",
   "language": "python",
   "name": "python3"
  },
  "language_info": {
   "codemirror_mode": {
    "name": "ipython",
    "version": 3
   },
   "file_extension": ".py",
   "mimetype": "text/x-python",
   "name": "python",
   "nbconvert_exporter": "python",
   "pygments_lexer": "ipython3",
   "version": "3.12.4"
  }
 },
 "nbformat": 4,
 "nbformat_minor": 5
}
